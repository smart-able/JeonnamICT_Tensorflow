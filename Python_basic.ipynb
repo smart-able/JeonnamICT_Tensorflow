{
 "cells": [
  {
   "cell_type": "code",
   "execution_count": 1,
   "id": "594b8042",
   "metadata": {},
   "outputs": [
    {
     "name": "stdout",
     "output_type": "stream",
     "text": [
      "2.7.0\n"
     ]
    }
   ],
   "source": [
    "import tensorflow as tf\n",
    "print(tf.__version__)"
   ]
  },
  {
   "cell_type": "markdown",
   "id": "5619aeca",
   "metadata": {},
   "source": [
    "### 리스트(list) : 가변형(mutable), 시퀀스, 가장 유용한 자료형, [ ] :대괄호, 중복 허용"
   ]
  },
  {
   "cell_type": "code",
   "execution_count": 12,
   "id": "69f4dbb8",
   "metadata": {},
   "outputs": [
    {
     "name": "stdout",
     "output_type": "stream",
     "text": [
      "2 5\n",
      "[1, 2, 3, 4, 5, 6]\n",
      "[1, 2, 3]\n",
      "[1]\n",
      "[3, 4, 5]\n",
      "[1, 3, 5]\n",
      "[6, 5, 4, 3, 2, 1]\n"
     ]
    }
   ],
   "source": [
    "a=[1,2,3,4,5,6]\n",
    "#슬라이싱\n",
    "print(a[1],a[4])\n",
    "print(a[::]) #전체\n",
    "print(a[:3])\n",
    "print(a[0:1])\n",
    "print(a[2:5])\n",
    "print(a[::2]) #2씩 건너뛰어서\n",
    "print(a[::-1]) #순서 거꾸로 변경"
   ]
  },
  {
   "cell_type": "markdown",
   "id": "00202d62",
   "metadata": {},
   "source": [
    "- shift + enter : 셀 실행 후 다음 셀로 이동\n",
    "- alt + enter : 셀 실행 후 다음에 셀을 추가\n",
    "- ctrl + '/' : 주석문 설정/해제\n",
    "- Tab : 들여 쓰기\n",
    "- shift + Tab : 들여 쓰기 해제"
   ]
  },
  {
   "cell_type": "markdown",
   "id": "7d91746a",
   "metadata": {},
   "source": [
    "### 튜플(tuple) : 불변형(immutable), 시퀀스형, ( ):소괄호 사용"
   ]
  },
  {
   "cell_type": "code",
   "execution_count": 17,
   "id": "87259b4d",
   "metadata": {},
   "outputs": [
    {
     "name": "stdout",
     "output_type": "stream",
     "text": [
      "<class 'tuple'>\n",
      "1 2 hello\n"
     ]
    }
   ],
   "source": [
    "t=1,2,'hello' #패킹\n",
    "print(type(t))\n",
    "\n",
    "x,y,z=t #언패킹\n",
    "print(x,y,z)\n",
    "\n",
    "a,b=10,20 #언패킹(왼쪽항에 ,가 들어있으면 그리고 왼쪽과 오른쪽항의 갯수가 맞아야함)"
   ]
  },
  {
   "cell_type": "markdown",
   "id": "d36b715d",
   "metadata": {},
   "source": [
    "### 사전(dict): 가변형(mutable), 순서가 없다, 연관형, 매핑형 ,{ } : 중괄호사용\n",
    "#### {key:value,.....}, key 는 반드시 immutable형 이어야 한다(숫자형,문자열,튜플),\n",
    "#### value 는 mutable,immutable 모두 사용 가능하다"
   ]
  },
  {
   "cell_type": "code",
   "execution_count": 19,
   "id": "0cdf52e7",
   "metadata": {},
   "outputs": [
    {
     "name": "stdout",
     "output_type": "stream",
     "text": [
      "<class 'dict'>\n",
      "홍길동 30\n"
     ]
    }
   ],
   "source": [
    "a = {'name':'홍길동','age':30,'phone':'010-1234-1234','birth':'20221005',10:100}\n",
    "print(type(a))\n",
    "print(a['name'],a['age'])"
   ]
  },
  {
   "cell_type": "code",
   "execution_count": 20,
   "id": "e5f982af",
   "metadata": {},
   "outputs": [
    {
     "name": "stdout",
     "output_type": "stream",
     "text": [
      "{'a': 97, 'b': 98, 'c': 99, 'd': 100, 'e': 101, 'f': 102, 'g': 103}\n"
     ]
    }
   ],
   "source": [
    "# 사전 내장(dict comprehension)\n",
    "a={k:ord(k) for k in 'abcdefg'} #ord : 문자의 아스키코드\n",
    "print(a)"
   ]
  },
  {
   "cell_type": "code",
   "execution_count": 21,
   "id": "dffc2064",
   "metadata": {},
   "outputs": [],
   "source": [
    "# for k in 'abcdefg' : # 7회 반복"
   ]
  },
  {
   "cell_type": "code",
   "execution_count": 22,
   "id": "7bf8a98f",
   "metadata": {},
   "outputs": [
    {
     "name": "stdout",
     "output_type": "stream",
     "text": [
      "{'b': 98, 'c': 99, 'd': 100, 'f': 102, 'g': 103}\n"
     ]
    }
   ],
   "source": [
    "# 조건식을 사용\n",
    "a={k:ord(k) for k in 'abcdefg' if k not in 'aeiou'}\n",
    "print(a)"
   ]
  },
  {
   "cell_type": "markdown",
   "id": "04987ce6",
   "metadata": {},
   "source": [
    "### 집합(set) : mutable, 순서가 없다, { }중괄호 사용, 중복을 허용하지 않는다"
   ]
  },
  {
   "cell_type": "code",
   "execution_count": 24,
   "id": "7b4cdac9",
   "metadata": {},
   "outputs": [
    {
     "name": "stdout",
     "output_type": "stream",
     "text": [
      "{'l', 't', ' ', 'n', 'h', 'p', 'y'}\n"
     ]
    }
   ],
   "source": [
    "# 조건식을 사용한 집합 내장\n",
    "set = {v for v in 'python hello' if v not in 'aeiou'} #자음만 추출, 중복 제거\n",
    "print(set)"
   ]
  },
  {
   "cell_type": "markdown",
   "id": "23eab648",
   "metadata": {},
   "source": [
    "### 객체 : 파이썬의 모든 변수, 데이터형은 객체로 관리된다."
   ]
  },
  {
   "cell_type": "code",
   "execution_count": 28,
   "id": "4be86432",
   "metadata": {},
   "outputs": [
    {
     "name": "stdout",
     "output_type": "stream",
     "text": [
      "<class 'int'>\n"
     ]
    }
   ],
   "source": [
    "a=30 #int 정수 (인덱스) float 실수 : 소숫점있음, 기본자료형으로 많이 사용됨\n",
    "print(type(a))"
   ]
  },
  {
   "cell_type": "code",
   "execution_count": 29,
   "id": "c354ab95",
   "metadata": {},
   "outputs": [
    {
     "name": "stdout",
     "output_type": "stream",
     "text": [
      "30\n",
      "<class 'function'>\n"
     ]
    }
   ],
   "source": [
    "#함수\n",
    "def add(a,b):\n",
    "    c=a+b\n",
    "    return c\n",
    "\n",
    "print (add(10,20))\n",
    "print(type(add))"
   ]
  },
  {
   "cell_type": "code",
   "execution_count": null,
   "id": "833e3e3d",
   "metadata": {},
   "outputs": [],
   "source": []
  }
 ],
 "metadata": {
  "kernelspec": {
   "display_name": "Python 3 (ipykernel)",
   "language": "python",
   "name": "python3"
  },
  "language_info": {
   "codemirror_mode": {
    "name": "ipython",
    "version": 3
   },
   "file_extension": ".py",
   "mimetype": "text/x-python",
   "name": "python",
   "nbconvert_exporter": "python",
   "pygments_lexer": "ipython3",
   "version": "3.9.12"
  }
 },
 "nbformat": 4,
 "nbformat_minor": 5
}
