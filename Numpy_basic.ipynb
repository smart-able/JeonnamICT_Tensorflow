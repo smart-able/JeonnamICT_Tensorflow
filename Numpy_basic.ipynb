{
 "cells": [
  {
   "cell_type": "markdown",
   "id": "0e8514b0",
   "metadata": {},
   "source": [
    "### 넘파이(NumPy) : 배열(ndarray, n dimension array)\n",
    "* 리스트(list) : Linked List구조(불연속), 동작 속도가 느리다, comma로 요소구별, 서로 다른 자료형 사용가능 \n",
    "* 배열(ndarray) : 연속된 메모리 구조, 동작 속도가 빠르다, comma를 사용하지 않고 공백으로 요소 구별,오직 한 가지 타입만 갖을 수 있다 "
   ]
  },
  {
   "cell_type": "code",
   "execution_count": 2,
   "id": "0d8273e6",
   "metadata": {},
   "outputs": [
    {
     "name": "stdout",
     "output_type": "stream",
     "text": [
      "[0 1 2 3 4 5]\n",
      "<class 'numpy.ndarray'>\n",
      "int32\n",
      "(6,)\n"
     ]
    }
   ],
   "source": [
    "import numpy as np         # numpy를 np로 부를게 !\n",
    "a=np.array([0,1,2,3,4,5])   # .의 개념 : np 안에 array (전라남도. 여수시 ~~)\n",
    "print(a)\n",
    "print(type(a))\n",
    "# 주로 숫자 배열에 많이 쓰임\n",
    "print(a.dtype) #int32 = 32부터 정수입니다.\n",
    "print(a.shape) #shape : (6,)"
   ]
  },
  {
   "cell_type": "code",
   "execution_count": 3,
   "id": "8749c73e",
   "metadata": {},
   "outputs": [
    {
     "name": "stdout",
     "output_type": "stream",
     "text": [
      "<class 'list'> [0, 1, 2, 3, 4, 5]\n"
     ]
    }
   ],
   "source": [
    "b = [0,1,2,3,4,5] #list는 쉼표로 구분 / ndarray는 , 없음\n",
    "print(type(b),b)"
   ]
  },
  {
   "cell_type": "code",
   "execution_count": 6,
   "id": "87876842",
   "metadata": {},
   "outputs": [
    {
     "data": {
      "text/plain": [
       "dict_keys(['?', 0, 'byte', 'b', 1, 'ubyte', 'B', 2, 'short', 'h', 3, 'ushort', 'H', 4, 'i', 5, 'uint', 'I', 6, 'intp', 'p', 9, 'uintp', 'P', 10, 'long', 'l', 7, 'L', 8, 'longlong', 'q', 'ulonglong', 'Q', 'half', 'e', 23, 'f', 11, 'double', 'd', 12, 'longdouble', 'g', 13, 'cfloat', 'F', 14, 'cdouble', 'D', 15, 'clongdouble', 'G', 16, 'O', 17, 'S', 18, 'unicode', 'U', 19, 'void', 'V', 20, 'M', 21, 'm', 22, 'bool8', 'b1', 'int64', 'i8', 'uint64', 'u8', 'float16', 'f2', 'float32', 'f4', 'float64', 'f8', 'complex64', 'c8', 'complex128', 'c16', 'object0', 'bytes0', 'str0', 'void0', 'datetime64', 'M8', 'timedelta64', 'm8', 'Bytes0', 'Datetime64', 'Str0', 'Uint64', 'int32', 'i4', 'uint32', 'u4', 'int16', 'i2', 'uint16', 'u2', 'int8', 'i1', 'uint8', 'u1', 'complex_', 'int0', 'uint0', 'single', 'csingle', 'singlecomplex', 'float_', 'intc', 'uintc', 'int_', 'longfloat', 'clongfloat', 'longcomplex', 'bool_', 'bytes_', 'string_', 'str_', 'unicode_', 'object_', 'int', 'float', 'complex', 'bool', 'object', 'str', 'bytes', 'a'])"
      ]
     },
     "execution_count": 6,
     "metadata": {},
     "output_type": "execute_result"
    }
   ],
   "source": [
    "# numpy 의 dtype 객체의 종류: 대소문자 모두 사용가능\n",
    "np.sctypeDict.keys()"
   ]
  },
  {
   "cell_type": "markdown",
   "id": "d85a4509",
   "metadata": {},
   "source": [
    "### 차원(dimension, Rank) 과 Shape"
   ]
  },
  {
   "cell_type": "markdown",
   "id": "fb07140c",
   "metadata": {},
   "source": [
    "* 차원(Dimension, Rank) : 1,2,3 차원 , n 차원, 첫 데이터까지의 대괄호의 갯수\n",
    "* Shape : 차원의 요소의 수, 튜플 형식\n",
    "#### 1차원 Shape : (x,) 축이 0\n",
    "#### 2차원 Shape : (x,y)  , 행렬(matrix)\n",
    "#### 3차원 Shape : (x,y,z) , (면,행,열)\n",
    "...\n",
    "#### n차원 Shape : (x,y,z,....)"
   ]
  },
  {
   "cell_type": "code",
   "execution_count": 10,
   "id": "6d67b784",
   "metadata": {},
   "outputs": [
    {
     "name": "stdout",
     "output_type": "stream",
     "text": [
      "[[0 1 2]\n",
      " [0 1 2]]\n",
      "(2, 3)\n"
     ]
    }
   ],
   "source": [
    "# 2차원 배열의 Shape : 행(↓row,가로,수직,axis = 0) 과 열(→column,세로,수평,axis =1)  ==> 필수 암기(직행버스)\n",
    "m = np.array([[0,1,2],\n",
    "              [0,1,2]])\n",
    "print(m)\n",
    "print(m.shape) #2행 3열"
   ]
  },
  {
   "cell_type": "code",
   "execution_count": 15,
   "id": "ab0a3ee1",
   "metadata": {},
   "outputs": [
    {
     "name": "stdout",
     "output_type": "stream",
     "text": [
      "[[[0 1 2]\n",
      "  [3 4 5]]\n",
      "\n",
      " [[0 1 2]\n",
      "  [3 4 5]]]\n",
      "(2, 2, 3)\n",
      "[[[0 1 2]\n",
      "  [3 4 5]]\n",
      "\n",
      " [[0 1 2]\n",
      "  [3 4 5]]]\n"
     ]
    },
    {
     "data": {
      "text/plain": [
       "array([[[[[0],\n",
       "          [1],\n",
       "          [2]],\n",
       "\n",
       "         [[3],\n",
       "          [4],\n",
       "          [5]]],\n",
       "\n",
       "\n",
       "        [[[0],\n",
       "          [1],\n",
       "          [2]],\n",
       "\n",
       "         [[3],\n",
       "          [4],\n",
       "          [5]]]]])"
      ]
     },
     "execution_count": 15,
     "metadata": {},
     "output_type": "execute_result"
    }
   ],
   "source": [
    "# 3차원 배열의 Shape : (면,행,열)\n",
    "m = np.array([[[0,1,2],\n",
    "               [3,4,5]],\n",
    "              [[0,1,2],\n",
    "               [3,4,5]]])\n",
    "print(m)\n",
    "print(m.shape) #바깥쪽부터 대괄호 갯수 세어가는 원리\n",
    "\n",
    "m.reshape(1,2,2,3)\n",
    "print(m)\n",
    "m.reshape(1,2,2,3,1)"
   ]
  },
  {
   "cell_type": "markdown",
   "id": "396e6d2e",
   "metadata": {},
   "source": [
    "### 배열의 shape 바꾸기 : reshape() 함수"
   ]
  },
  {
   "cell_type": "code",
   "execution_count": 25,
   "id": "52908cbe",
   "metadata": {},
   "outputs": [
    {
     "name": "stdout",
     "output_type": "stream",
     "text": [
      "[ 0  1  2  3  4  5  6  7  8  9 10 11]\n",
      "(12,)\n",
      "[[ 0  1  2  3]\n",
      " [ 4  5  6  7]\n",
      " [ 8  9 10 11]] (3, 4)\n",
      "[[[ 0  1]\n",
      "  [ 2  3]]\n",
      "\n",
      " [[ 4  5]\n",
      "  [ 6  7]]\n",
      "\n",
      " [[ 8  9]\n",
      "  [10 11]]]\n",
      "[[[[ 0]\n",
      "   [ 1]\n",
      "   [ 2]]\n",
      "\n",
      "  [[ 3]\n",
      "   [ 4]\n",
      "   [ 5]]]\n",
      "\n",
      "\n",
      " [[[ 6]\n",
      "   [ 7]\n",
      "   [ 8]]\n",
      "\n",
      "  [[ 9]\n",
      "   [10]\n",
      "   [11]]]]\n"
     ]
    }
   ],
   "source": [
    "m1=np.arange(12)\n",
    "print(m1)\n",
    "print(m1.shape) #(12,) -->1차원\n",
    "\n",
    "m2 = m1.reshape(3,4)  #-->2차원\n",
    "print(m2,m2.shape)\n",
    "\n",
    "m3=m1.reshape(3,2,2) #곱해서 12가 되면 다 된다 \n",
    "print(m3)             #--> 3차원\n",
    "\n",
    "m4 = m1.reshape(2,2,3,1) #--> 4차원\n",
    "print(m4)\n"
   ]
  },
  {
   "cell_type": "code",
   "execution_count": 20,
   "id": "9f0b055e",
   "metadata": {},
   "outputs": [
    {
     "data": {
      "text/plain": [
       "[0, 1, 2, 3, 4, 5, 6, 7, 8, 9, 10, 11]"
      ]
     },
     "execution_count": 20,
     "metadata": {},
     "output_type": "execute_result"
    }
   ],
   "source": [
    "list(range(0,12,1))"
   ]
  },
  {
   "cell_type": "code",
   "execution_count": 29,
   "id": "68a7ec6d",
   "metadata": {},
   "outputs": [
    {
     "name": "stdout",
     "output_type": "stream",
     "text": [
      "[[ 0  1  2]\n",
      " [ 3  4  5]\n",
      " [ 6  7  8]\n",
      " [ 9 10 11]] (4, 3)\n"
     ]
    }
   ],
   "source": [
    "# -1을 사용한 reshape : \n",
    "m2=m1.reshape(4,-1)\n",
    "print(m2, m2.shape) #자동으로 요소 갯수 계산"
   ]
  },
  {
   "cell_type": "code",
   "execution_count": 30,
   "id": "5bd1b465",
   "metadata": {},
   "outputs": [
    {
     "name": "stdout",
     "output_type": "stream",
     "text": [
      "(12,)\n"
     ]
    }
   ],
   "source": [
    "#1차원으로 변경 flatten\n",
    "m1 = m3.flatten()\n",
    "print(m1.shape)"
   ]
  },
  {
   "cell_type": "markdown",
   "id": "f27e179c",
   "metadata": {},
   "source": [
    "도움말 단축키 : shift+Tab"
   ]
  },
  {
   "cell_type": "markdown",
   "id": "95be21f1",
   "metadata": {},
   "source": [
    "### 배열의 인덱싱과 슬라이싱"
   ]
  },
  {
   "cell_type": "code",
   "execution_count": 50,
   "id": "ddb7ad36",
   "metadata": {},
   "outputs": [
    {
     "name": "stdout",
     "output_type": "stream",
     "text": [
      "[[ 0  1  2  3]\n",
      " [ 4  5  6  7]\n",
      " [ 8  9 10 11]] (3, 4)\n",
      "0\n",
      "9\n",
      "11\n",
      "[[0 1 2 3]\n",
      " [4 5 6 7]]\n",
      "\n",
      "[[ 0  1  2]\n",
      " [ 4  5  6]\n",
      " [ 8  9 10]]\n",
      "\n",
      "[[ 1  2  3]\n",
      " [ 5  6  7]\n",
      " [ 9 10 11]]\n",
      "\n",
      "[ 3  7 11]\n",
      "[[ 3]\n",
      " [ 7]\n",
      " [11]]\n",
      "[[ 3]\n",
      " [ 7]\n",
      " [11]]\n"
     ]
    }
   ],
   "source": [
    "# 2차원 배열의 인덱싱과 슬라이싱\n",
    "# data[행, 열]\n",
    "d= np.arange(12).reshape(3,4)\n",
    "print(d,d.shape)\n",
    "\n",
    "#인덱싱\n",
    "print(d[0,0])\n",
    "print(d[2,1])\n",
    "print(d[-1,-1])\n",
    "\n",
    "#슬라이싱 ***자주 쓰인다 ***\n",
    "print(d[0:2])\n",
    "print('')\n",
    "print(d[:,:-1]) #(3,3) 마지막 열을 제외\n",
    "print('')\n",
    "print(d[:,1:]) #(3,3) 첫번째 열을 제외\n",
    "print('')\n",
    "#마지막 열만 추출\n",
    "print(d[:,-1]) #1차원으로 변형되어 호출됨\n",
    "print(d[:,-1:])\n",
    "print(d[:,[-1]])"
   ]
  },
  {
   "cell_type": "code",
   "execution_count": 29,
   "id": "5008cf42",
   "metadata": {},
   "outputs": [
    {
     "name": "stdout",
     "output_type": "stream",
     "text": [
      "[[[ 0  1  2]\n",
      "  [ 3  4  5]]\n",
      "\n",
      " [[ 6  7  8]\n",
      "  [ 9 10 11]]] (2, 2, 3)\n",
      "-\n",
      "5\n",
      "-\n",
      "[[[0 1]]\n",
      "\n",
      " [[6 7]]]\n",
      "-\n",
      "[ 4 10]\n",
      "-\n",
      "[[ 2  5]\n",
      " [ 8 11]]\n"
     ]
    }
   ],
   "source": [
    "# 3차원 배열의 인덱싱과 슬라이싱\n",
    "# data[면,행,열]\n",
    "d= np.arange(12).reshape(2,2,3)\n",
    "print(d,d.shape)\n",
    "print(\"-\")\n",
    "# 인덱싱 : 요소 1개 꺼내기\n",
    "print(d[0,1,2])\n",
    "print(\"-\")\n",
    "#슬라이싱\n",
    "print (d[:,:-1,:-1])\n",
    "print(\"-\")\n",
    "print(d[:,1,1])\n",
    "print('-')\n",
    "print(d[:,:,-1]) #슬라이싱하는데 인덱싱(-1)을 넣으면 차원이 축소함"
   ]
  },
  {
   "cell_type": "code",
   "execution_count": 30,
   "id": "e305d60d",
   "metadata": {},
   "outputs": [
    {
     "name": "stdout",
     "output_type": "stream",
     "text": [
      "[ 0  1  2  3  4  5  6  7  8  9 10 11] (12,)\n",
      "0\n",
      "[0]\n",
      "[0]\n"
     ]
    }
   ],
   "source": [
    "# 인덱싱 결과는 scalar\n",
    "# 슬라이싱 결과는 ndarray\n",
    "a = np.arange(12)\n",
    "print(a,a.shape)\n",
    "\n",
    "print(a[0])    # 0, scalar\n",
    "print(a[0:1])  # [0] , 배열(ndarray)\n",
    "print(a[[0]])  # [0] ,동일한 결과"
   ]
  },
  {
   "cell_type": "markdown",
   "id": "9fe99dbb",
   "metadata": {},
   "source": [
    "### 불린 인덱싱 : 조건식을 사용한 인덱싱, 조건 검색 필터를 사용한 추출(매우 중요)"
   ]
  },
  {
   "cell_type": "code",
   "execution_count": 44,
   "id": "af2f3bd5",
   "metadata": {},
   "outputs": [
    {
     "name": "stdout",
     "output_type": "stream",
     "text": [
      "[1 2 3 4 5 6]\n",
      "[False False  True  True  True  True]\n",
      "[3 4 5 6]\n",
      "[3 4 5 6]\n",
      "[101 102 103 104 105 106]\n",
      "[1 2 4 5 6]\n",
      "[4 5 6]\n",
      "[1 2 3 4 5 6]\n",
      "[2 4 6]\n"
     ]
    },
    {
     "data": {
      "text/plain": [
       "3.5"
      ]
     },
     "execution_count": 44,
     "metadata": {},
     "output_type": "execute_result"
    }
   ],
   "source": [
    "a=np.array([1,2,3,4,5,6])\n",
    "print(a)\n",
    "\n",
    "print(a>2)\n",
    "print(a[a>2]) #배열 a에서 2보다 큰 요소를 추출, 결과는 배열\n",
    "print(a[[False,False,True,True,True,True]]) #동일한 결과\n",
    "#배열의 장점 : 연속된 메모리 출력 가능, 반복문 없이 반복되는 과정 한 번에 실행가능\n",
    "\n",
    "print(a+100) #리스트는 한 번에 계산이 안됨. 넘파이 array로만 됨.\n",
    "print(a[a!=3]) \n",
    "print(a[(a>2 | (a<6))]) #or\n",
    "print(a[(a>2 & (a<6))]) #and\n",
    "print(a[a%2==0]) #2로 나눈 나머지가 0인 것=짝수를 추출\n",
    "\n",
    "a.mean() #통계\n"
   ]
  },
  {
   "cell_type": "markdown",
   "id": "0ffe49fe",
   "metadata": {},
   "source": [
    "### 배열의 연산\n",
    "### [1] 배열과 상수간의 연산 :배열 <연산자> 상수, 상수 <연산자> 배열\n",
    "#### 하나의 스칼라와 배열의 연산, 브로드 캐스팅에 해당"
   ]
  },
  {
   "cell_type": "code",
   "execution_count": 52,
   "id": "defa5526",
   "metadata": {},
   "outputs": [
    {
     "name": "stdout",
     "output_type": "stream",
     "text": [
      "[[ 0  1  2  3]\n",
      " [ 4  5  6  7]\n",
      " [ 8  9 10 11]\n",
      " [12 13 14 15]] (4, 4)\n",
      "[[10 11 12 13]\n",
      " [14 15 16 17]\n",
      " [18 19 20 21]\n",
      " [22 23 24 25]]\n",
      "[[10 11 12 13]\n",
      " [14 15 16 17]\n",
      " [18 19 20 21]\n",
      " [22 23 24 25]]\n",
      "\n",
      "[[  0  10  20  30]\n",
      " [ 40  50  60  70]\n",
      " [ 80  90 100 110]\n",
      " [120 130 140 150]]\n",
      "[[0.  0.1 0.2 0.3]\n",
      " [0.4 0.5 0.6 0.7]\n",
      " [0.8 0.9 1.  1.1]\n",
      " [1.2 1.3 1.4 1.5]]\n"
     ]
    }
   ],
   "source": [
    "A = np.arange(16).reshape(4,4)\n",
    "print(A,A.shape)\n",
    "\n",
    "print(A+10) #캐스팅 : 형변환 / shape을 broad하게 바꾼다 = 브로드캐스팅 , 상수일 때는 무조건 된다.\n",
    "print(10+A)\n",
    "print(\"\")\n",
    "print(10*A)\n",
    "print(A/10)"
   ]
  },
  {
   "cell_type": "code",
   "execution_count": 53,
   "id": "4edcef3a",
   "metadata": {},
   "outputs": [
    {
     "name": "stdout",
     "output_type": "stream",
     "text": [
      "inf\n",
      "nan\n"
     ]
    },
    {
     "name": "stderr",
     "output_type": "stream",
     "text": [
      "C:\\Users\\Public\\Documents\\ESTsoft\\CreatorTemp\\ipykernel_24876\\891709269.py:1: RuntimeWarning: divide by zero encountered in true_divide\n",
      "  print(np.divide(10,0)) # inf 무한대\n",
      "C:\\Users\\Public\\Documents\\ESTsoft\\CreatorTemp\\ipykernel_24876\\891709269.py:2: RuntimeWarning: invalid value encountered in true_divide\n",
      "  print(np.divide(0,0)) # nan : not a number\n"
     ]
    }
   ],
   "source": [
    "print(np.divide(10,0)) # inf 무한대\n",
    "print(np.divide(0,0)) # nan : not a number"
   ]
  },
  {
   "cell_type": "markdown",
   "id": "065eae69",
   "metadata": {},
   "source": [
    "### [2] 배열과 배열의  연산 \n",
    "### (1) element-wise 연산 : 요소간의 연산"
   ]
  },
  {
   "cell_type": "code",
   "execution_count": 60,
   "id": "10492b26",
   "metadata": {},
   "outputs": [
    {
     "name": "stdout",
     "output_type": "stream",
     "text": [
      "[[0 1 2]\n",
      " [3 4 5]\n",
      " [6 7 8]]\n",
      "[[-1  0  1]\n",
      " [ 2  3  4]\n",
      " [ 5  6  7]]\n",
      "[[-1  1  3]\n",
      " [ 5  7  9]\n",
      " [11 13 15]]\n",
      "[[ 0  0  2]\n",
      " [ 6 12 20]\n",
      " [30 42 56]]\n"
     ]
    }
   ],
   "source": [
    "# shape이 같은 경우\n",
    "A = np.arange(9).reshape(3,3)\n",
    "print(A)\n",
    "B = np.arange(9).reshape(3,3) -1 \n",
    "print(B)\n",
    "\n",
    "print(A+B) # 각 요소끼리 더해짐\n",
    "print(A*B)"
   ]
  },
  {
   "cell_type": "code",
   "execution_count": 63,
   "id": "e0d8656e",
   "metadata": {},
   "outputs": [
    {
     "name": "stdout",
     "output_type": "stream",
     "text": [
      "[[0 1]\n",
      " [2 3]\n",
      " [4 5]]\n",
      "[[0 1]]\n",
      "------------------------------\n",
      "[[0 2]\n",
      " [2 4]\n",
      " [4 6]]\n"
     ]
    }
   ],
   "source": [
    "# shape이 다른 경우\n",
    "# 브로드캐스팅 : 차원이나 shape이 서로 다른 배열에서 산술 연산이 가능 (내부에서 shape이 맞춰짐)\n",
    "A=np.arange(6).reshape(3,2)\n",
    "B=np.arange(2).reshape(1,2)\n",
    "print(A)\n",
    "print(B)\n",
    "print(\"-\"*30)\n",
    "print(A+B) #연산시 배열 B가 (3,2)로 일시적으로 자동 변경되어 연산"
   ]
  },
  {
   "cell_type": "markdown",
   "id": "6087d0ef",
   "metadata": {},
   "source": [
    "#### 브로드 캐스팅 규칙 : 차원과 shape 이 자동 조정\n",
    "#### 규칙 1 : 두 배열의 차원 수가 다르면 더 작은 수의 차원을 가진 배열의 shape의 앞쪽(왼쪽)을 1로 채운다\n",
    "#### 규칙 2 : 차원이 같은 두 배열의 shape 이 1인 배열을 다른 배열의 shape과 일치하도록 늘인다\n",
    "#### 규칙 3 : 임의의 차원에서 크기가 일치하지 않고 1도 아니라면 오류가 발생"
   ]
  },
  {
   "cell_type": "code",
   "execution_count": 64,
   "id": "6cbbb16f",
   "metadata": {},
   "outputs": [
    {
     "name": "stdout",
     "output_type": "stream",
     "text": [
      "[[1. 1. 1.]\n",
      " [1. 1. 1.]]\n",
      "[0 1 2]\n",
      "[[1. 2. 3.]\n",
      " [1. 2. 3.]]\n"
     ]
    }
   ],
   "source": [
    "A=np.ones((2,3)) #(2,3), 2차원\n",
    "B = np.arange(3) #(3, ), 1차원 \n",
    "print(A)\n",
    "print(B)\n",
    "#규칙 1 적용 : B의 shape ==> (3) -> (1,3) , B[0 1 2] --> B[[0 1 2]]\n",
    "#규칙 2 적용 : B의 shape ==> (1,3)  -> (2,3) , B : [[0 1 2]\n",
    "#                                                  [0 1 2]]\n",
    "print(A+B)"
   ]
  },
  {
   "cell_type": "code",
   "execution_count": null,
   "id": "8e14e7e5",
   "metadata": {},
   "outputs": [],
   "source": [
    "A=np.ones((3,2)) #(3,2), 2차원\n",
    "B = np.arange(3) #(3, ), 1차원 \n",
    "print(A)\n",
    "print(B)\n",
    "\n",
    "# 규칙 3에 해당되므로 오류 (크기 일치X, 1도 아님)"
   ]
  },
  {
   "cell_type": "code",
   "execution_count": null,
   "id": "8299451c",
   "metadata": {},
   "outputs": [],
   "source": [
    "# 끝쪽 차원부터 비교하면서 앞쪽으로 진행한다\n",
    "# 두 배열의 각 차원에서 shape 이 같거나 shape이 1인경우 브로드캐스팅 가능\n",
    "# A  =  (2, 3)\n",
    "# B  =     (3,)\n",
    "# ----------------\n",
    "# 결과:  (2, 3)\n",
    "    \n",
    "# A  =  (3, 1)\n",
    "# B  =     (3,)\n",
    "# ----------------  \n",
    "# 결과:  (3, 3) 1이 3으로 바뀜\n",
    "\n",
    "\n",
    "# A  =  (3, 2)\n",
    "# B  =     (3,)\n",
    "# ---------------- \n",
    "# 결과:  (3, x) ==> 오류\n",
    "\n",
    "# A  =  (15, 3, 5)\n",
    "# B  =      (3, 1) \n",
    "# ---------------- \n",
    "# 결과: (15, 3, 5)   \n",
    "\n",
    "# A  =  (8, 1, 6, 1)\n",
    "# B  =     (7, 1, 5)\n",
    "# --------------------\n",
    "# 결과:  (8, 7, 6, 5)\n",
    "\n",
    "# A  =  (8, 4, 3)\n",
    "# B  =     (2, 1)\n",
    "# ----------------\n",
    "# 결과: (8, x, 3) ==> 오류 "
   ]
  },
  {
   "cell_type": "markdown",
   "id": "3d8469d6",
   "metadata": {},
   "source": [
    "### (2) dot product: 내적 곱셈 ,행렬(matrix)"
   ]
  },
  {
   "cell_type": "code",
   "execution_count": 66,
   "id": "386c3130",
   "metadata": {},
   "outputs": [
    {
     "name": "stdout",
     "output_type": "stream",
     "text": [
      "[[1 2 3]\n",
      " [4 5 6]]\n",
      "[[ 7  8]\n",
      " [ 9 10]\n",
      " [11 12]]\n",
      "[[ 58  64]\n",
      " [139 154]]\n"
     ]
    }
   ],
   "source": [
    "A = np.array([[1,2,3],\n",
    "              [4,5,6]])\n",
    "B = np.array([[7,8],\n",
    "              [9,10],\n",
    "              [11,12]])\n",
    "print(A)   # (2,3)\n",
    "print(B)   # (3,2)\n",
    "\n",
    "# print(A*B) #ValueError, element-wise 연산 불가 (브로드캐스팅 실패)\n",
    "\n",
    "result = np.dot(A,B) # 행렬의 내적 곱셈\n",
    "print(result)\n",
    "\n",
    "# (2,3) * (3,2) = (2,2)\n",
    "# (m,n) * (n,L) = (m,L) 행렬의 내적 곱셈 시 shape 공식 ==> 필수 암기 요망 !!\n",
    "\n",
    "#(10,4) * (n,L) = (10,2) # n=4, L=2 를 구할 수 있어야 한다.\n",
    "#  X    *   W   =  Y"
   ]
  },
  {
   "cell_type": "code",
   "execution_count": 69,
   "id": "cfd31279",
   "metadata": {},
   "outputs": [
    {
     "name": "stdout",
     "output_type": "stream",
     "text": [
      "[[1 2 3]\n",
      " [4 5 6]]\n",
      "[[ 7  8]\n",
      " [ 9 10]\n",
      " [11 12]]\n",
      "<class 'numpy.matrix'>\n",
      "[[ 58  64]\n",
      " [139 154]]\n",
      "[[12260 13568]\n",
      " [29468 32612]]\n"
     ]
    }
   ],
   "source": [
    "# <class 'numpy.matrix'>\n",
    "A=np.mat(\"1 2 3 ; 4 5 6\")\n",
    "B=np.mat(\"7 8;9 10;11 12\")\n",
    "\n",
    "print(A)  #(2,3)\n",
    "print(B)  #(3,2)\n",
    "print(type(A))\n",
    "\n",
    "print(A*B) # 행렬의 내적 곱셈 np.dot보다 훨씬 편리\n",
    "print(A*B*A*B) #(2,3) * (3,2) --> (2,2)* A(2,3) --> (2,3)*B(3,2) -->(2,2)"
   ]
  },
  {
   "cell_type": "code",
   "execution_count": null,
   "id": "f5000371",
   "metadata": {},
   "outputs": [],
   "source": []
  }
 ],
 "metadata": {
  "kernelspec": {
   "display_name": "Python 3 (ipykernel)",
   "language": "python",
   "name": "python3"
  },
  "language_info": {
   "codemirror_mode": {
    "name": "ipython",
    "version": 3
   },
   "file_extension": ".py",
   "mimetype": "text/x-python",
   "name": "python",
   "nbconvert_exporter": "python",
   "pygments_lexer": "ipython3",
   "version": "3.9.12"
  }
 },
 "nbformat": 4,
 "nbformat_minor": 5
}
